{
 "cells": [
  {
   "cell_type": "code",
   "execution_count": null,
   "id": "be3b2328",
   "metadata": {},
   "outputs": [],
   "source": [
    "import numpy as np\n",
    "\n",
    "# Function to estimate T uncertainty using a moving window technique\n",
    "def moving_window(data, n, std_only=True):\n",
    "\n",
    "# Initialize empty lists to store mean and std dev for each window\n",
    "means = []  \n",
    "stds = []\n",
    "\n",
    "# Loop through each row and column  \n",
    "for i in range(nrow):\n",
    "  for j in range(ncol):\n",
    "   \n",
    "    # Extract n x n window around current index\n",
    "    # Use max/min to ensure we don't go out of bounds\n",
    "    window = data[max(i-n,0):min(i+n,nrow), max(j-n,0):min(j+n,ncol)]\n",
    "\n",
    "    # Calculate mean and standard deviation of values in window\n",
    "    means.append(np.mean(window))  \n",
    "    stds.append(np.std(window))\n",
    "\n",
    "# Reshape the 1D list of stds to 2D array matched to input shape\n",
    "if std_only:\n",
    "  return np.reshape(stds, (nrow, ncol)) \n",
    "\n",
    "# Alternatively return tuples of means and stds\n",
    "else:\n",
    "  return means, stds"
   ]
  }
 ],
 "metadata": {
  "kernelspec": {
   "display_name": "Python 3 (ipykernel)",
   "language": "python",
   "name": "python3"
  },
  "language_info": {
   "codemirror_mode": {
    "name": "ipython",
    "version": 3
   },
   "file_extension": ".py",
   "mimetype": "text/x-python",
   "name": "python",
   "nbconvert_exporter": "python",
   "pygments_lexer": "ipython3",
   "version": "3.10.9"
  }
 },
 "nbformat": 4,
 "nbformat_minor": 5
}
