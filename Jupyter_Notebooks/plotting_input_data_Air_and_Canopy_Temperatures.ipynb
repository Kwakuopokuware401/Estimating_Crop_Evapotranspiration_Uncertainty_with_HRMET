{
 "cells": [
  {
   "cell_type": "code",
   "execution_count": null,
   "id": "cc3977cb",
   "metadata": {},
   "outputs": [],
   "source": [
    "import numpy as np\n",
    "\n",
    "# Function to calculate moving window mean and standard deviation\n",
    "# for a 2D input array\n",
    "def moving_window(in_array, window):\n",
    "\n",
    "  # Window size must be odd integer\n",
    "  assert window % 2 != 0  \n",
    "\n",
    "  # Calculate center index of window\n",
    "  shift = (window - 1) // 2  \n",
    "\n",
    "  # Output arrays to store results\n",
    "  out_mean = np.full_like(in_array, np.nan)\n",
    "  out_std = np.full_like(in_array, np.nan)\n",
    "\n",
    "  # Loop over interior indices skipping edges\n",
    "  for i in range(shift, in_array.shape[0] - shift):   \n",
    "    for j in range(shift, in_array.shape[1] - shift):\n",
    "      \n",
    "      # Extract window values centered on current index\n",
    "      window_vals = in_array[i-shift:i+shift+1, j-shift:j+shift+1]  \n",
    "\n",
    "      # Calculate mean and standard deviation in window\n",
    "      out_mean[i,j] = np.mean(window_vals)\n",
    "      out_std[i,j] = np.std(window_vals)\n",
    "\n",
    "  # Return output arrays\n",
    "  return out_mean, out_std"
   ]
  }
 ],
 "metadata": {
  "kernelspec": {
   "display_name": "Python 3 (ipykernel)",
   "language": "python",
   "name": "python3"
  },
  "language_info": {
   "codemirror_mode": {
    "name": "ipython",
    "version": 3
   },
   "file_extension": ".py",
   "mimetype": "text/x-python",
   "name": "python",
   "nbconvert_exporter": "python",
   "pygments_lexer": "ipython3",
   "version": "3.10.9"
  }
 },
 "nbformat": 4,
 "nbformat_minor": 5
}
