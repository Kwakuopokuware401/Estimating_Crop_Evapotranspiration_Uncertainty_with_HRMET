{
 "cells": [
  {
   "cell_type": "code",
   "execution_count": null,
   "id": "0bd87ed2",
   "metadata": {},
   "outputs": [],
   "source": [
    "import numpy as np\n",
    "\n",
    "# HRMET model to calculate evapotranspiration \n",
    "def hrmet(datetime, longitude, latitude, Tair, SWin, u, ea, pa, LAI, h, T, albSoil, albVeg, emissSoil, emissVeg):\n",
    "\n",
    "# Net shortwave radiation \n",
    "# Incoming shortwave * (1 - albedo)\n",
    "Rns = (1 - albSoil) * SWin  \n",
    "\n",
    "# Outgoing longwave radiation\n",
    "# Emissivity * Stefan-Boltzmann * (Temp**4 - AirTemp**4) \n",
    "+ emissSoil * 5.67e-8 * (T**4 - Tair**4)\n",
    "\n",
    "# Estimate soil heat flux as fraction of Rns\n",
    "G = 0.1 * Rns  \n",
    "\n",
    "# Net longwave radiation\n",
    "# Emissivity * Stefan-Boltzmann * (Temp**4 - AirTemp**4)\n",
    "Rnl = emissVeg * 5.67e-8 * (T**4 - Tair**4)  \n",
    "\n",
    "# Aerodynamic resistance term \n",
    "Ra_s = 0.2 * (Rns - G)  \n",
    "\n",
    "# Latent heat flux \n",
    "# Function of LAI and radiation terms\n",
    "LvE = 0.1 * LAI * (Rnl - Ra_s)  \n",
    "\n",
    "# Convert latent heat flux to ET in mm/hour\n",
    "ET_mmHr = LvE * 3600 / (1000 * 2.45)\n",
    "\n",
    "return ET_mmHr"
   ]
  }
 ],
 "metadata": {
  "kernelspec": {
   "display_name": "Python 3 (ipykernel)",
   "language": "python",
   "name": "python3"
  },
  "language_info": {
   "codemirror_mode": {
    "name": "ipython",
    "version": 3
   },
   "file_extension": ".py",
   "mimetype": "text/x-python",
   "name": "python",
   "nbconvert_exporter": "python",
   "pygments_lexer": "ipython3",
   "version": "3.10.9"
  }
 },
 "nbformat": 4,
 "nbformat_minor": 5
}
